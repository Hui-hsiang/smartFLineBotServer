{
 "cells": [
  {
   "cell_type": "code",
   "execution_count": 2,
   "metadata": {},
   "outputs": [],
   "source": [
    "# 引用必要套件\n",
    "import firebase_admin\n",
    "from firebase_admin import credentials\n",
    "from firebase_admin import firestore\n",
    "\n",
    "# 引用私密金鑰\n",
    "# path/to/serviceAccount.json 請用自己存放的路徑\n",
    "cred = credentials.Certificate('../src/smartflinebotserver-firebase-adminsdk-q4kci-72696b6a64.json')\n",
    "\n",
    "# 初始化firebase，注意不能重複初始化\n",
    "firebase_admin.initialize_app(cred)\n",
    "\n",
    "# 初始化firestore\n",
    "db = firestore.client()"
   ]
  },
  {
   "cell_type": "code",
   "execution_count": 81,
   "metadata": {
    "tags": []
   },
   "outputs": [
    {
     "output_type": "stream",
     "name": "stdout",
     "text": "[{'user_id': 'done'}]\n"
    }
   ],
   "source": [
    "\n"
   ]
  },
  {
   "cell_type": "code",
   "execution_count": 10,
   "metadata": {
    "tags": []
   },
   "outputs": [],
   "source": [
    "docs = db.collection(\"comment\").where('id','==', 'U2649922b5604a80e08b0f9dba91f9029').get()\n"
   ]
  },
  {
   "cell_type": "code",
   "execution_count": 11,
   "metadata": {
    "tags": []
   },
   "outputs": [
    {
     "output_type": "stream",
     "name": "stdout",
     "text": "還不錯\n3\n"
    }
   ],
   "source": [
    "for i in docs:\n",
    "    doc = i.to_dict()\n",
    "    print (doc['comment'])\n",
    "    print (doc['star'])\n"
   ]
  },
  {
   "cell_type": "code",
   "execution_count": 17,
   "metadata": {
    "tags": []
   },
   "outputs": [
    {
     "output_type": "error",
     "ename": "NameError",
     "evalue": "name 'sizeof' is not defined",
     "traceback": [
      "\u001b[1;31m---------------------------------------------------------------------------\u001b[0m",
      "\u001b[1;31mNameError\u001b[0m                                 Traceback (most recent call last)",
      "\u001b[1;32m<ipython-input-17-0ead30aa44a7>\u001b[0m in \u001b[0;36m<module>\u001b[1;34m\u001b[0m\n\u001b[1;32m----> 1\u001b[1;33m \u001b[0mprint\u001b[0m \u001b[1;33m(\u001b[0m\u001b[0msizeof\u001b[0m\u001b[1;33m(\u001b[0m\u001b[0mdocs\u001b[0m\u001b[1;33m)\u001b[0m\u001b[1;33m)\u001b[0m\u001b[1;33m\u001b[0m\u001b[1;33m\u001b[0m\u001b[0m\n\u001b[0m",
      "\u001b[1;31mNameError\u001b[0m: name 'sizeof' is not defined"
     ]
    }
   ],
   "source": [
    "print (sizeof(docs))"
   ]
  },
  {
   "cell_type": "code",
   "execution_count": 195,
   "metadata": {},
   "outputs": [
    {
     "output_type": "execute_result",
     "data": {
      "text/plain": "6"
     },
     "metadata": {},
     "execution_count": 195
    }
   ],
   "source": [
    "int(date.split(\"-\")[1])"
   ]
  },
  {
   "cell_type": "code",
   "execution_count": 210,
   "metadata": {
    "tags": []
   },
   "outputs": [
    {
     "output_type": "stream",
     "name": "stdout",
     "text": "{'profit': '49372', 'name': '黃暉翔', 'user_id': 'U60d04b2a91c5b050242a42de2c1b1947'}\n"
    }
   ],
   "source": [
    "doc = db.collection('sales').document('U60d04b2a91c5b050242a42de2c1b1947').get()\n",
    "print(doc.to_dict())"
   ]
  },
  {
   "cell_type": "code",
   "execution_count": 229,
   "metadata": {
    "tags": []
   },
   "outputs": [
    {
     "output_type": "stream",
     "name": "stdout",
     "text": "Today's date: 2020-08-13\n['2020', '08', '13']\n"
    }
   ],
   "source": [
    "from datetime import date\n",
    "import time\n",
    "today = date.today()\n",
    "print(\"Today's date:\", today)\n",
    "print (str(today).split(\"-\"))"
   ]
  },
  {
   "cell_type": "code",
   "execution_count": null,
   "metadata": {},
   "outputs": [],
   "source": [
    "docs = db.collection('sales').order_by('profit',direction=firestore.Query.DESCENDING"
   ]
  },
  {
   "cell_type": "code",
   "execution_count": 230,
   "metadata": {},
   "outputs": [
    {
     "output_type": "execute_result",
     "data": {
      "text/plain": "(seconds: 1597314498\n nanos: 188984000,\n <google.cloud.firestore_v1.document.DocumentReference at 0x112f9a050>)"
     },
     "metadata": {},
     "execution_count": 230
    }
   ],
   "source": [
    "import datetime\n",
    "ts = time.time()\n",
    "st = datetime.datetime.fromtimestamp(ts).strftime('%Y-%m-%d %H:%M:%S')\n",
    "doc = { \n",
    "            'customerID' : 'U1272cf5f42b84296f2584f9520ad28b5',\n",
    "            'customerNAME' : '游家和',\n",
    "            'date' : st,\n",
    "            'product' : \"富邦產險 寵物險C方案\",\n",
    "            'salesID' : 'U60d04b2a91c5b050242a42de2c1b1947',\n",
    "        }\n",
    "db.collection(\"transaction\").add(doc)"
   ]
  },
  {
   "cell_type": "code",
   "execution_count": 4,
   "metadata": {},
   "outputs": [],
   "source": [
    " docs = db.collection(\"transaction\").where('salesID','==', 'U60d04b2a91c5b050242a42de2c1b1947').order_by(\"date\", direction=firestore.Query.DESCENDING).get()"
   ]
  },
  {
   "cell_type": "code",
   "execution_count": 8,
   "metadata": {},
   "outputs": [
    {
     "output_type": "stream",
     "name": "stdout",
     "text": [
      "FJsSKRhMIFKEEVIyA4Dc\nfM0YMnag5oHKaMvV8bb8\nKqDdeEOexKN8ZTdK3Sev\nTo4DuRnwlqFjAtEKmjli\ncN4odR7eZqfWKTYN2CpM\n3dfWKzfYXmmKfllJuTm9\n"
     ]
    }
   ],
   "source": [
    "for i in docs:\n",
    "    t_doc = i.to_dict()\n",
    "    print(i.id)"
   ]
  },
  {
   "cell_type": "code",
   "execution_count": 9,
   "metadata": {},
   "outputs": [
    {
     "output_type": "error",
     "ename": "AttributeError",
     "evalue": "'CollectionReference' object has no attribute 'doc'",
     "traceback": [
      "\u001b[1;31m---------------------------------------------------------------------------\u001b[0m",
      "\u001b[1;31mAttributeError\u001b[0m                            Traceback (most recent call last)",
      "\u001b[1;32m<ipython-input-9-1a0e957a2e7f>\u001b[0m in \u001b[0;36m<module>\u001b[1;34m\u001b[0m\n\u001b[1;32m----> 1\u001b[1;33m \u001b[0mdoc\u001b[0m \u001b[1;33m=\u001b[0m \u001b[0mdb\u001b[0m\u001b[1;33m.\u001b[0m\u001b[0mcollection\u001b[0m\u001b[1;33m(\u001b[0m\u001b[1;34m\"transaction\"\u001b[0m\u001b[1;33m)\u001b[0m\u001b[1;33m.\u001b[0m\u001b[0mdoc\u001b[0m\u001b[1;33m(\u001b[0m\u001b[1;34m'3dfWKzfYXmmKfllJuTm9'\u001b[0m\u001b[1;33m)\u001b[0m\u001b[1;33m\u001b[0m\u001b[1;33m\u001b[0m\u001b[0m\n\u001b[0m",
      "\u001b[1;31mAttributeError\u001b[0m: 'CollectionReference' object has no attribute 'doc'"
     ]
    }
   ],
   "source": [
    "doc = db.collection(\"transaction\").document('3dfWKzfYXmmKfllJuTm9')"
   ]
  },
  {
   "cell_type": "code",
   "execution_count": null,
   "metadata": {},
   "outputs": [],
   "source": []
  }
 ],
 "metadata": {
  "kernelspec": {
   "name": "3250a127-08ed-47e5-b5d9-6a7a82c0518f",
   "display_name": "'Python Interactive'"
  }
 },
 "nbformat": 4,
 "nbformat_minor": 2
}